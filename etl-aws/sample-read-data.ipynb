{
 "cells": [
  {
   "cell_type": "code",
   "execution_count": 2,
   "metadata": {},
   "outputs": [],
   "source": [
    "import pandas as pd\n",
    "import boto3\n",
    "import os\n",
    "from io import StringIO\n",
    "\n"
   ]
  },
  {
   "cell_type": "markdown",
   "metadata": {},
   "source": [
    "## Where to get the key\n",
    "\n",
    "Contact Minh and put the file in the root directory"
   ]
  },
  {
   "cell_type": "code",
   "execution_count": 3,
   "metadata": {},
   "outputs": [],
   "source": [
    "# Get the current working directory\n",
    "current_dir = os.getcwd()\n",
    "# Move up one level from the current directory\n",
    "parent_dir = os.path.dirname(current_dir)\n",
    "\n",
    "key_df = pd.read_csv(os.path.join(parent_dir, 'british-airway-user.csv'), index_col=None)\n"
   ]
  },
  {
   "cell_type": "markdown",
   "metadata": {},
   "source": [
    "## Read data \n",
    "\n",
    "Read the latest file in the bucket\n"
   ]
  },
  {
   "cell_type": "code",
   "execution_count": 4,
   "metadata": {},
   "outputs": [],
   "source": [
    "import boto3\n",
    "import pandas as pd\n",
    "from io import StringIO\n",
    "\n",
    "# Initialize a session using Amazon S3\n",
    "s3_client = boto3.client('s3', aws_access_key_id=key_df['Access key ID'][0], aws_secret_access_key=key_df['Secret access key'][0])\n",
    "\n",
    "# Name of the S3 bucket\n",
    "bucket_name = 'british-airway'\n",
    "\n",
    "# Function to get the two most recent CSV files\n",
    "def get_recent_csv_files(bucket_name, num_files=2):\n",
    "    csv_files = []\n",
    "    response = s3_client.list_objects_v2(Bucket=bucket_name)\n",
    "    for obj in response.get('Contents', []):\n",
    "        if obj['Key'].endswith('.csv'):\n",
    "            csv_files.append({'Key': obj['Key'], 'LastModified': obj['LastModified']})\n",
    "    \n",
    "    # Sort the files by last modified date in descending order and get the top 'num_files' entries\n",
    "    recent_csv_files = sorted(csv_files, key=lambda x: x['LastModified'], reverse=True)[:num_files]\n",
    "    return [file['Key'] for file in recent_csv_files]\n",
    "\n",
    "# Function to read a CSV file from S3 into a DataFrame\n",
    "def read_csv_to_df(bucket_name, file_key):\n",
    "    csv_obj = s3_client.get_object(Bucket=bucket_name, Key=file_key)\n",
    "    body = csv_obj['Body']\n",
    "    csv_string = body.read().decode('utf-8')\n",
    "    df = pd.read_csv(StringIO(csv_string))\n",
    "    return df\n",
    "\n",
    "# Get the two most recent CSV files\n",
    "\n",
    "recent_csv_files = get_recent_csv_files(bucket_name)\n",
    "\n",
    "# You can now loop through the file keys or handle them individually\n",
    "# Example: Read the files into DataFrames\n",
    "dataframes = [read_csv_to_df(bucket_name, file_key) for file_key in recent_csv_files]\n",
    "\n",
    "df= dataframes[0]\n",
    "previous_df= dataframes[1]"
   ]
  },
  {
   "cell_type": "code",
   "execution_count": 5,
   "metadata": {},
   "outputs": [
    {
     "data": {
      "text/html": [
       "<div>\n",
       "<style scoped>\n",
       "    .dataframe tbody tr th:only-of-type {\n",
       "        vertical-align: middle;\n",
       "    }\n",
       "\n",
       "    .dataframe tbody tr th {\n",
       "        vertical-align: top;\n",
       "    }\n",
       "\n",
       "    .dataframe thead th {\n",
       "        text-align: right;\n",
       "    }\n",
       "</style>\n",
       "<table border=\"1\" class=\"dataframe\">\n",
       "  <thead>\n",
       "    <tr style=\"text-align: right;\">\n",
       "      <th></th>\n",
       "      <th>id</th>\n",
       "      <th>date_review</th>\n",
       "      <th>day_review</th>\n",
       "      <th>month_review</th>\n",
       "      <th>month_review_num</th>\n",
       "      <th>year_review</th>\n",
       "      <th>verified</th>\n",
       "      <th>verified.1</th>\n",
       "      <th>name</th>\n",
       "      <th>month_fly</th>\n",
       "      <th>...</th>\n",
       "      <th>seat_comfort</th>\n",
       "      <th>cabit_serv</th>\n",
       "      <th>food</th>\n",
       "      <th>ground_service</th>\n",
       "      <th>wifi</th>\n",
       "      <th>money_value</th>\n",
       "      <th>score</th>\n",
       "      <th>experience</th>\n",
       "      <th>recommended</th>\n",
       "      <th>review</th>\n",
       "    </tr>\n",
       "  </thead>\n",
       "  <tbody>\n",
       "    <tr>\n",
       "      <th>0</th>\n",
       "      <td>0</td>\n",
       "      <td>2024-04-07</td>\n",
       "      <td>7</td>\n",
       "      <td>April</td>\n",
       "      <td>4</td>\n",
       "      <td>2024</td>\n",
       "      <td>False</td>\n",
       "      <td>False</td>\n",
       "      <td>Enrica H Price</td>\n",
       "      <td>March</td>\n",
       "      <td>...</td>\n",
       "      <td>3.0</td>\n",
       "      <td>4.0</td>\n",
       "      <td>3.0</td>\n",
       "      <td>5.0</td>\n",
       "      <td>4.0</td>\n",
       "      <td>4</td>\n",
       "      <td>3.80</td>\n",
       "      <td>Good</td>\n",
       "      <td>True</td>\n",
       "      <td>I wanted to write this review so I could give ...</td>\n",
       "    </tr>\n",
       "    <tr>\n",
       "      <th>1</th>\n",
       "      <td>1</td>\n",
       "      <td>2024-04-03</td>\n",
       "      <td>3</td>\n",
       "      <td>April</td>\n",
       "      <td>4</td>\n",
       "      <td>2024</td>\n",
       "      <td>True</td>\n",
       "      <td>True</td>\n",
       "      <td>Mike Flynn</td>\n",
       "      <td>March</td>\n",
       "      <td>...</td>\n",
       "      <td>3.0</td>\n",
       "      <td>5.0</td>\n",
       "      <td>3.0</td>\n",
       "      <td>4.0</td>\n",
       "      <td>NaN</td>\n",
       "      <td>3</td>\n",
       "      <td>3.75</td>\n",
       "      <td>Fair</td>\n",
       "      <td>True</td>\n",
       "      <td>Check in fast and friendly. Security a breeze....</td>\n",
       "    </tr>\n",
       "    <tr>\n",
       "      <th>2</th>\n",
       "      <td>2</td>\n",
       "      <td>2024-04-02</td>\n",
       "      <td>2</td>\n",
       "      <td>April</td>\n",
       "      <td>4</td>\n",
       "      <td>2024</td>\n",
       "      <td>True</td>\n",
       "      <td>True</td>\n",
       "      <td>E Dodson</td>\n",
       "      <td>March</td>\n",
       "      <td>...</td>\n",
       "      <td>3.0</td>\n",
       "      <td>1.0</td>\n",
       "      <td>1.0</td>\n",
       "      <td>2.0</td>\n",
       "      <td>1.0</td>\n",
       "      <td>1</td>\n",
       "      <td>1.60</td>\n",
       "      <td>Poor</td>\n",
       "      <td>False</td>\n",
       "      <td>This is the first time I have seen the new Clu...</td>\n",
       "    </tr>\n",
       "    <tr>\n",
       "      <th>3</th>\n",
       "      <td>3</td>\n",
       "      <td>2024-04-02</td>\n",
       "      <td>2</td>\n",
       "      <td>April</td>\n",
       "      <td>4</td>\n",
       "      <td>2024</td>\n",
       "      <td>True</td>\n",
       "      <td>True</td>\n",
       "      <td>David Williams</td>\n",
       "      <td>March</td>\n",
       "      <td>...</td>\n",
       "      <td>5.0</td>\n",
       "      <td>1.0</td>\n",
       "      <td>1.0</td>\n",
       "      <td>5.0</td>\n",
       "      <td>1.0</td>\n",
       "      <td>3</td>\n",
       "      <td>2.60</td>\n",
       "      <td>Fair</td>\n",
       "      <td>False</td>\n",
       "      <td>Flew business class from Doha to London on 31s...</td>\n",
       "    </tr>\n",
       "    <tr>\n",
       "      <th>4</th>\n",
       "      <td>4</td>\n",
       "      <td>2024-03-28</td>\n",
       "      <td>28</td>\n",
       "      <td>March</td>\n",
       "      <td>3</td>\n",
       "      <td>2024</td>\n",
       "      <td>True</td>\n",
       "      <td>True</td>\n",
       "      <td>C Down</td>\n",
       "      <td>March</td>\n",
       "      <td>...</td>\n",
       "      <td>4.0</td>\n",
       "      <td>4.0</td>\n",
       "      <td>5.0</td>\n",
       "      <td>4.0</td>\n",
       "      <td>NaN</td>\n",
       "      <td>4</td>\n",
       "      <td>4.25</td>\n",
       "      <td>Good</td>\n",
       "      <td>True</td>\n",
       "      <td>Starting off at Heathrow Terminal 3. Check in ...</td>\n",
       "    </tr>\n",
       "  </tbody>\n",
       "</table>\n",
       "<p>5 rows × 33 columns</p>\n",
       "</div>"
      ],
      "text/plain": [
       "   id date_review  day_review month_review  month_review_num  year_review  \\\n",
       "0   0  2024-04-07           7        April                 4         2024   \n",
       "1   1  2024-04-03           3        April                 4         2024   \n",
       "2   2  2024-04-02           2        April                 4         2024   \n",
       "3   3  2024-04-02           2        April                 4         2024   \n",
       "4   4  2024-03-28          28        March                 3         2024   \n",
       "\n",
       "   verified  verified.1            name month_fly  ...  seat_comfort  \\\n",
       "0     False       False  Enrica H Price     March  ...           3.0   \n",
       "1      True        True      Mike Flynn     March  ...           3.0   \n",
       "2      True        True        E Dodson     March  ...           3.0   \n",
       "3      True        True  David Williams     March  ...           5.0   \n",
       "4      True        True          C Down     March  ...           4.0   \n",
       "\n",
       "   cabit_serv food ground_service wifi money_value score experience  \\\n",
       "0         4.0  3.0            5.0  4.0           4  3.80       Good   \n",
       "1         5.0  3.0            4.0  NaN           3  3.75       Fair   \n",
       "2         1.0  1.0            2.0  1.0           1  1.60       Poor   \n",
       "3         1.0  1.0            5.0  1.0           3  2.60       Fair   \n",
       "4         4.0  5.0            4.0  NaN           4  4.25       Good   \n",
       "\n",
       "  recommended                                             review  \n",
       "0        True  I wanted to write this review so I could give ...  \n",
       "1        True  Check in fast and friendly. Security a breeze....  \n",
       "2       False  This is the first time I have seen the new Clu...  \n",
       "3       False  Flew business class from Doha to London on 31s...  \n",
       "4        True  Starting off at Heathrow Terminal 3. Check in ...  \n",
       "\n",
       "[5 rows x 33 columns]"
      ]
     },
     "execution_count": 5,
     "metadata": {},
     "output_type": "execute_result"
    }
   ],
   "source": [
    "df.head()"
   ]
  },
  {
   "cell_type": "code",
   "execution_count": 6,
   "metadata": {},
   "outputs": [
    {
     "data": {
      "text/plain": [
       "3781"
      ]
     },
     "execution_count": 6,
     "metadata": {},
     "output_type": "execute_result"
    }
   ],
   "source": [
    "len(previous_df)"
   ]
  },
  {
   "cell_type": "code",
   "execution_count": 7,
   "metadata": {},
   "outputs": [],
   "source": [
    "# Calculate general metrics\n",
    "recommendation_percentage = df['recommended'].mean() * 100\n",
    "average_money_value = df['money_value'].mean()\n",
    "average_service_score = df['score'].mean()\n",
    "review_count = len(df)\n",
    "\n",
    "# Calculate previous metrics\n",
    "previous_recommendation_percentage = previous_df['recommended'].mean() * 100\n",
    "previous_average_money_value = previous_df['money_value'].mean()\n",
    "previous_average_service_score = previous_df['score'].mean()\n",
    "previous_review_count = len(previous_df)"
   ]
  },
  {
   "cell_type": "code",
   "execution_count": 8,
   "metadata": {},
   "outputs": [],
   "source": [
    "change_recommendation_percentage = recommendation_percentage - previous_recommendation_percentage\n",
    "change_average_money_value = average_money_value - previous_average_money_value\n",
    "change_average_service_score = average_service_score - previous_average_service_score\n",
    "change_review_count = review_count - previous_review_count"
   ]
  },
  {
   "cell_type": "code",
   "execution_count": 9,
   "metadata": {},
   "outputs": [
    {
     "data": {
      "text/plain": [
       "-0.03711955082825824"
      ]
     },
     "execution_count": 9,
     "metadata": {},
     "output_type": "execute_result"
    }
   ],
   "source": [
    "change_recommendation_percentage"
   ]
  },
  {
   "cell_type": "code",
   "execution_count": 11,
   "metadata": {},
   "outputs": [
    {
     "data": {
      "text/plain": [
       "0.00839875292850678"
      ]
     },
     "execution_count": 11,
     "metadata": {},
     "output_type": "execute_result"
    }
   ],
   "source": [
    "change_average_money_value*100"
   ]
  }
 ],
 "metadata": {
  "kernelspec": {
   "display_name": "DataAnalyst_2",
   "language": "python",
   "name": "python3"
  },
  "language_info": {
   "codemirror_mode": {
    "name": "ipython",
    "version": 3
   },
   "file_extension": ".py",
   "mimetype": "text/x-python",
   "name": "python",
   "nbconvert_exporter": "python",
   "pygments_lexer": "ipython3",
   "version": "3.11.5"
  }
 },
 "nbformat": 4,
 "nbformat_minor": 2
}
